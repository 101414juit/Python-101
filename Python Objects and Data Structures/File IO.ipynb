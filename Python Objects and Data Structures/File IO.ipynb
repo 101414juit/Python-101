{
 "cells": [
  {
   "cell_type": "markdown",
   "metadata": {},
   "source": [
    "# Basic File I/O operation"
   ]
  },
  {
   "cell_type": "markdown",
   "metadata": {},
   "source": [
    "Syntax:\n",
    "    file.read() and file.write()"
   ]
  },
  {
   "cell_type": "code",
   "execution_count": 1,
   "metadata": {},
   "outputs": [
    {
     "data": {
      "text/plain": [
       "'C:\\\\Users\\\\karinkato\\\\Desktop\\\\Python\\\\Python Objects and Data Structures'"
      ]
     },
     "execution_count": 1,
     "metadata": {},
     "output_type": "execute_result"
    }
   ],
   "source": [
    "pwd"
   ]
  },
  {
   "cell_type": "code",
   "execution_count": null,
   "metadata": {},
   "outputs": [],
   "source": [
    "pwd"
   ]
  },
  {
   "cell_type": "code",
   "execution_count": 2,
   "metadata": {},
   "outputs": [
    {
     "name": "stdout",
     "output_type": "stream",
     "text": [
      "Writing myfile.txt\n"
     ]
    }
   ],
   "source": [
    "%%writefile myfile.txt\n",
    "This is line 1\n",
    "This is line 2\n",
    "THis is line 3\n",
    "This is line 4"
   ]
  },
  {
   "cell_type": "code",
   "execution_count": 7,
   "metadata": {},
   "outputs": [
    {
     "name": "stdout",
     "output_type": "stream",
     "text": [
      "This is line 1\n",
      "This is line 2\n",
      "THis is line 3\n",
      "This is line 4\n",
      "\n",
      "Contents of the file, before seek is \n",
      "Contents of the file, after seek is\n",
      " This is line 1\n",
      "This is line 2\n",
      "THis is line 3\n",
      "This is line 4\n",
      "\n",
      "Contents of the file, using readlines is ['This is line 1\\n', 'This is line 2\\n', 'THis is line 3\\n', 'This is line 4\\n']\n"
     ]
    }
   ],
   "source": [
    "#reading contents from file:\n",
    "myfile = open(\"myfile.txt\")\n",
    "print(myfile.read())\n",
    "contents=myfile.read()\n",
    "\n",
    "# NO CONTENT WILL BE PRINTED, REASON: CURSOR IS AT THE END OF THE FILE\n",
    "print(\"Contents of the file, before seek is\",contents) \n",
    "\n",
    "#SEEK BRINGS CURSOR AT THE BEGINNING OF THE FILE\n",
    "myfile.seek(0)\n",
    "contents = myfile.read()\n",
    "\n",
    "# AFTER SEEK CURSOR IS AT THE BEGINNING OF THE FILE, HENCE FILE WILL BE READ AGAIN, RETURNING RELEVANT DATA\n",
    "print(\"Contents of the file, after seek is\\n\",contents)\n",
    "myfile.seek(0)\n",
    "contents = myfile.readlines()\n",
    "\n",
    "# READLINES, METHOD RETURNS DATA SEPARATED BY NEWLINE(\\N) CHARACRTER\n",
    "print(\"Contents of the file, using readlines is\",contents)"
   ]
  },
  {
   "cell_type": "markdown",
   "metadata": {},
   "source": [
    "### Instead of using open, use with open as filename:\n",
    "It will take care of closing of the file"
   ]
  },
  {
   "cell_type": "code",
   "execution_count": 11,
   "metadata": {},
   "outputs": [
    {
     "name": "stdout",
     "output_type": "stream",
     "text": [
      "This is line 1\n",
      "This is line 2\n",
      "THis is line 3\n",
      "This is line 4\n",
      "\n"
     ]
    }
   ],
   "source": [
    "#mode = 'r', defines read-mode\n",
    "with open(\"myfile.txt\",mode='r') as f:\n",
    "    contents = f.read()\n",
    "print(contents)"
   ]
  },
  {
   "cell_type": "code",
   "execution_count": 12,
   "metadata": {},
   "outputs": [
    {
     "ename": "FileNotFoundError",
     "evalue": "[Errno 2] No such file or directory: 'myfil.txt'",
     "output_type": "error",
     "traceback": [
      "\u001b[1;31m---------------------------------------------------------------------------\u001b[0m",
      "\u001b[1;31mFileNotFoundError\u001b[0m                         Traceback (most recent call last)",
      "\u001b[1;32m<ipython-input-12-48a471895c7b>\u001b[0m in \u001b[0;36m<module>\u001b[1;34m\u001b[0m\n\u001b[0;32m      1\u001b[0m \u001b[1;31m#mode = 'r', if file is not there\u001b[0m\u001b[1;33m\u001b[0m\u001b[1;33m\u001b[0m\u001b[1;33m\u001b[0m\u001b[0m\n\u001b[1;32m----> 2\u001b[1;33m \u001b[1;32mwith\u001b[0m \u001b[0mopen\u001b[0m\u001b[1;33m(\u001b[0m\u001b[1;34m\"myfil.txt\"\u001b[0m\u001b[1;33m,\u001b[0m\u001b[0mmode\u001b[0m\u001b[1;33m=\u001b[0m\u001b[1;34m'r'\u001b[0m\u001b[1;33m)\u001b[0m \u001b[1;32mas\u001b[0m \u001b[0mf\u001b[0m\u001b[1;33m:\u001b[0m\u001b[1;33m\u001b[0m\u001b[1;33m\u001b[0m\u001b[0m\n\u001b[0m\u001b[0;32m      3\u001b[0m     \u001b[0mcontents\u001b[0m \u001b[1;33m=\u001b[0m \u001b[0mf\u001b[0m\u001b[1;33m.\u001b[0m\u001b[0mread\u001b[0m\u001b[1;33m(\u001b[0m\u001b[1;33m)\u001b[0m\u001b[1;33m\u001b[0m\u001b[1;33m\u001b[0m\u001b[0m\n\u001b[0;32m      4\u001b[0m \u001b[0mprint\u001b[0m\u001b[1;33m(\u001b[0m\u001b[0mcontents\u001b[0m\u001b[1;33m)\u001b[0m\u001b[1;33m\u001b[0m\u001b[1;33m\u001b[0m\u001b[0m\n",
      "\u001b[1;31mFileNotFoundError\u001b[0m: [Errno 2] No such file or directory: 'myfil.txt'"
     ]
    }
   ],
   "source": [
    "#mode = 'r', if file is not there\n",
    "with open(\"myfil.txt\",mode='r') as f:\n",
    "    contents = f.read()\n",
    "print(contents)"
   ]
  },
  {
   "cell_type": "code",
   "execution_count": 15,
   "metadata": {},
   "outputs": [
    {
     "name": "stdout",
     "output_type": "stream",
     "text": [
      "This is line 1\n",
      "This is line 2\n",
      "THis is line 3\n",
      "This is line 4\n",
      "\n",
      "This is line 5\n",
      "This is line 6\n",
      "This is line 7\n"
     ]
    }
   ],
   "source": [
    "#mode = 'r', defines append-mode\n",
    "with open(\"myfile.txt\",mode='a') as f:\n",
    "    f.write(\"\\nThis is line 7\")\n",
    "with open(\"myfile.txt\",mode='r') as f:\n",
    "    print(f.read())"
   ]
  },
  {
   "cell_type": "code",
   "execution_count": 18,
   "metadata": {},
   "outputs": [
    {
     "name": "stdout",
     "output_type": "stream",
     "text": [
      "\n",
      "This is new fille\n"
     ]
    }
   ],
   "source": [
    "#mode = 'w' defines write mode\n",
    "with open(\"abcdefg.txt\",mode='w') as f:\n",
    "    f.write(\"\\nThis is new fille\")\n",
    "    \n",
    "with open(\"abcdefg.txt\",mode='r') as f:\n",
    "    print(f.read())"
   ]
  },
  {
   "cell_type": "code",
   "execution_count": 19,
   "metadata": {},
   "outputs": [
    {
     "data": {
      "text/plain": [
       "['hello']"
      ]
     },
     "execution_count": 19,
     "metadata": {},
     "output_type": "execute_result"
    }
   ],
   "source": [
    "d = {\n",
    "    'k1':\n",
    "    [\n",
    "        {\n",
    "            'nest_key':\n",
    "            [\n",
    "                'this is deep',['hello']\n",
    "            ]\n",
    "        }\n",
    "    ]\n",
    "}\n",
    "\n",
    "d['k1'][0]['nest_key'][1]"
   ]
  }
 ],
 "metadata": {
  "kernelspec": {
   "display_name": "Python 3",
   "language": "python",
   "name": "python3"
  },
  "language_info": {
   "codemirror_mode": {
    "name": "ipython",
    "version": 3
   },
   "file_extension": ".py",
   "mimetype": "text/x-python",
   "name": "python",
   "nbconvert_exporter": "python",
   "pygments_lexer": "ipython3",
   "version": "3.7.3"
  }
 },
 "nbformat": 4,
 "nbformat_minor": 2
}
